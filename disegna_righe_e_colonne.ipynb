{
 "cells": [
  {
   "cell_type": "code",
   "execution_count": null,
   "id": "36d9fad5",
   "metadata": {},
   "outputs": [],
   "source": []
  },
  {
   "cell_type": "code",
   "execution_count": 13,
   "id": "9f8c6742",
   "metadata": {
    "scrolled": true
   },
   "outputs": [
    {
     "name": "stdout",
     "output_type": "stream",
     "text": [
      "[0.0, 11.25, 22.5, 33.75, 45.0, 56.25, 67.5, 78.75]\n",
      "[20.0, 23.125, 26.25, 29.375, 32.5, 35.625, 38.75, 41.875]\n",
      "\n",
      "8\n",
      "visualizzazione matrice comoda per noi\n",
      "[[-41.875   -31.40625 -20.9375  -10.46875  10.46875  20.9375   31.40625\n",
      "   41.875  ]\n",
      " [-38.75    -29.0625  -19.375    -9.6875    9.6875   19.375    29.0625\n",
      "   38.75   ]\n",
      " [-35.625   -26.71875 -17.8125   -8.90625   8.90625  17.8125   26.71875\n",
      "   35.625  ]\n",
      " [-32.5     -24.375   -16.25     -8.125     8.125    16.25     24.375\n",
      "   32.5    ]\n",
      " [-29.375   -22.03125 -14.6875   -7.34375   7.34375  14.6875   22.03125\n",
      "   29.375  ]\n",
      " [-26.25    -19.6875  -13.125    -6.5625    6.5625   13.125    19.6875\n",
      "   26.25   ]\n",
      " [-23.125   -17.34375 -11.5625   -5.78125   5.78125  11.5625   17.34375\n",
      "   23.125  ]\n",
      " [-20.      -15.      -10.       -5.        5.       10.       15.\n",
      "   20.     ]]\n",
      "\n",
      "visualizzazione matrice realmente utilizzata\n",
      "8\n",
      "[[-20.      -15.      -10.       -5.        5.       10.       15.\n",
      "   20.     ]\n",
      " [-23.125   -17.34375 -11.5625   -5.78125   5.78125  11.5625   17.34375\n",
      "   23.125  ]\n",
      " [-26.25    -19.6875  -13.125    -6.5625    6.5625   13.125    19.6875\n",
      "   26.25   ]\n",
      " [-29.375   -22.03125 -14.6875   -7.34375   7.34375  14.6875   22.03125\n",
      "   29.375  ]\n",
      " [-32.5     -24.375   -16.25     -8.125     8.125    16.25     24.375\n",
      "   32.5    ]\n",
      " [-35.625   -26.71875 -17.8125   -8.90625   8.90625  17.8125   26.71875\n",
      "   35.625  ]\n",
      " [-38.75    -29.0625  -19.375    -9.6875    9.6875   19.375    29.0625\n",
      "   38.75   ]\n",
      " [-41.875   -31.40625 -20.9375  -10.46875  10.46875  20.9375   31.40625\n",
      "   41.875  ]]\n",
      "-20.0\n",
      "41.875\n"
     ]
    }
   ],
   "source": [
    "#versione definitiva creazione matrice\n",
    "import numpy as np\n",
    "\n",
    "def scambia_righe(matrice):\n",
    "    n_righe = len(matrice)\n",
    "    n_colonne = len(matrice[0])\n",
    "    print(n_righe)\n",
    "    matriceNuova = np.zeros((n_righe, n_colonne))\n",
    "    #creaiamo una nuova matrice a partire da quella passata in input che ha la riga 1 al posto della riga \"righe\"\n",
    "    for i in range(n_righe):\n",
    "        matriceNuova[i] = matrice[n_righe - 1 - i]\n",
    "    return matriceNuova\n",
    "\n",
    "def creaMatriceNegativaRibaltata(matrice):\n",
    "    matriceNuova = -matrice\n",
    "    matriceFinale=np.zeros((righe, colonne))\n",
    "    #creiamo una nuova matrice che ha i coefficienti tutti negativi e la colonna 1 al posto della  colonna \"colonne\"\n",
    "    for j in range(colonne):\n",
    "        matriceFinale[:,j] = matriceNuova[:,colonne - 1 - j]\n",
    "    return matriceFinale\n",
    "\n",
    "distanza_verticale = 90 #cm\n",
    "numero_elementi = 8 #ho deciso di dividere l'immagine in una matrice 8x8\n",
    "\n",
    "#ho ristretto il problema al solo lato sinistro, poiché il destro può essere ricavato per simmetria in seguito\n",
    "righe = 8\n",
    "colonne = 4\n",
    "lunghezza = []\n",
    "larghezza = []\n",
    "lunghezza_quadrato = distanza_verticale / numero_elementi  \n",
    "for i in range(numero_elementi):\n",
    "    lunghezza.append(i*lunghezza_quadrato)\n",
    "    larghezza.append((i*lunghezza_quadrato+72)/3.6)\n",
    "print(lunghezza)\n",
    "print(larghezza)\n",
    "\n",
    "larghezza_quadrato = np.zeros((righe, colonne))\n",
    "for i in range (0,righe):\n",
    "    for j in range(0,colonne):\n",
    "        larghezza_quadrato[i][j] = (larghezza[i]*(j+1))/colonne\n",
    "print()\n",
    "#print(larghezza_quadrato)\n",
    "matriceLarghezze = scambia_righe(larghezza_quadrato)\n",
    "#print(matriceLarghezze)\n",
    "matriceNegativa = creaMatriceNegativaRibaltata(matriceLarghezze)\n",
    "#print(matriceNegativa)\n",
    "matriceConcatenata = np.concatenate((matriceNegativa,matriceLarghezze), axis=1)\n",
    "print(\"visualizzazione matrice comoda per noi\")\n",
    "print(matriceConcatenata)\n",
    "print()\n",
    "print(\"visualizzazione matrice realmente utilizzata\")\n",
    "matriceRobot = scambia_righe(matriceConcatenata)\n",
    "print(matriceRobot)\n",
    "print(matriceRobot[0][0])\n",
    "print(matriceRobot[7][7])\n",
    "\n"
   ]
  },
  {
   "cell_type": "code",
   "execution_count": null,
   "id": "1962bfe8",
   "metadata": {},
   "outputs": [],
   "source": []
  },
  {
   "cell_type": "code",
   "execution_count": null,
   "id": "f319c070",
   "metadata": {},
   "outputs": [],
   "source": []
  },
  {
   "cell_type": "code",
   "execution_count": null,
   "id": "0d79a8f6",
   "metadata": {},
   "outputs": [],
   "source": []
  },
  {
   "cell_type": "code",
   "execution_count": null,
   "id": "0c22cf7c",
   "metadata": {},
   "outputs": [],
   "source": []
  },
  {
   "cell_type": "code",
   "execution_count": null,
   "id": "d216fa12",
   "metadata": {},
   "outputs": [],
   "source": []
  },
  {
   "cell_type": "code",
   "execution_count": null,
   "id": "16dd0f81",
   "metadata": {},
   "outputs": [],
   "source": []
  },
  {
   "cell_type": "code",
   "execution_count": null,
   "id": "043f115d",
   "metadata": {},
   "outputs": [],
   "source": []
  },
  {
   "cell_type": "code",
   "execution_count": null,
   "id": "b14b0733",
   "metadata": {},
   "outputs": [],
   "source": []
  },
  {
   "cell_type": "code",
   "execution_count": null,
   "id": "b3e559ed",
   "metadata": {},
   "outputs": [],
   "source": []
  },
  {
   "cell_type": "code",
   "execution_count": null,
   "id": "8387d9f5",
   "metadata": {},
   "outputs": [],
   "source": []
  },
  {
   "cell_type": "code",
   "execution_count": null,
   "id": "d27f82ca",
   "metadata": {},
   "outputs": [],
   "source": []
  },
  {
   "cell_type": "code",
   "execution_count": null,
   "id": "3b0bd580",
   "metadata": {},
   "outputs": [],
   "source": []
  },
  {
   "cell_type": "code",
   "execution_count": 28,
   "id": "1a1fbc8f",
   "metadata": {
    "scrolled": true
   },
   "outputs": [
    {
     "name": "stdout",
     "output_type": "stream",
     "text": [
      "[0.0, 11.25, 22.5, 33.75, 45.0, 56.25, 67.5, 78.75]\n",
      "[20.0, 23.125, 26.25, 29.375, 32.5, 35.625, 38.75, 41.875]\n",
      "\n",
      "[[10.46875 20.9375  31.40625 41.875  ]\n",
      " [ 9.6875  19.375   29.0625  38.75   ]\n",
      " [ 8.90625 17.8125  26.71875 35.625  ]\n",
      " [ 8.125   16.25    24.375   32.5    ]\n",
      " [ 7.34375 14.6875  22.03125 29.375  ]\n",
      " [ 6.5625  13.125   19.6875  26.25   ]\n",
      " [ 5.78125 11.5625  17.34375 23.125  ]\n",
      " [ 5.      10.      15.      20.     ]]\n",
      "\n"
     ]
    }
   ],
   "source": [
    "#funzionama è una procedura\n",
    "import numpy as np\n",
    "\n",
    "def scambia_righe(matrice):\n",
    "    matriceNuova = np.zeros((righe, colonne))\n",
    "    #print(matriceNuova)\n",
    "    n_righe = matrice.shape[0]\n",
    "    for i in range(n_righe):\n",
    "        matriceNuova[i] = matrice[n_righe - 1 - i]\n",
    "    print(matriceNuova)\n",
    "\n",
    "distanza_verticale = 90\n",
    "numero_elementi = 8\n",
    "\n",
    "righe = 8\n",
    "colonne = 4\n",
    "lunghezza = []\n",
    "larghezza = []\n",
    "lunghezza_quadrato = distanza_verticale / numero_elementi  \n",
    "for i in range(numero_elementi):\n",
    "    lunghezza.append(i*lunghezza_quadrato)\n",
    "    larghezza.append((i*lunghezza_quadrato+72)/3.6)\n",
    "print(lunghezza)\n",
    "print(larghezza)\n",
    "\n",
    "larghezza_quadrato = np.zeros((righe, colonne))\n",
    "for i in range (0,righe):\n",
    "    for j in range(0,colonne):\n",
    "        larghezza_quadrato[i][j] = (larghezza[i]*(j+1))/colonne\n",
    "print()\n",
    "#print(larghezza_quadrato)\n",
    "scambia_righe(larghezza_quadrato)\n",
    "print()\n",
    "#print(larghezza_quadrato)\n",
    "\n",
    "\n"
   ]
  },
  {
   "cell_type": "code",
   "execution_count": 44,
   "id": "628c24b3",
   "metadata": {},
   "outputs": [
    {
     "name": "stdout",
     "output_type": "stream",
     "text": [
      "[0.0, 11.25, 22.5, 33.75, 45.0, 56.25, 67.5, 78.75]\n",
      "[20.0, 23.125, 26.25, 29.375, 32.5, 35.625, 38.75, 41.875]\n",
      "\n",
      "[[ 5.      10.      15.      20.     ]\n",
      " [ 5.78125 11.5625  17.34375 23.125  ]\n",
      " [ 6.5625  13.125   19.6875  26.25   ]\n",
      " [ 7.34375 14.6875  22.03125 29.375  ]\n",
      " [ 8.125   16.25    24.375   32.5    ]\n",
      " [ 8.90625 17.8125  26.71875 35.625  ]\n",
      " [ 9.6875  19.375   29.0625  38.75   ]\n",
      " [10.46875 20.9375  31.40625 41.875  ]]\n"
     ]
    }
   ],
   "source": [
    "#funziona ma la matrice è invertita\n",
    "import numpy as np\n",
    "\n",
    "distanza_verticale = 90\n",
    "numero_elementi = 8\n",
    "\n",
    "righe = 8\n",
    "colonne = 4\n",
    "lunghezza = []\n",
    "larghezza = []\n",
    "lunghezza_quadrato = distanza_verticale / numero_elementi  \n",
    "for i in range(numero_elementi):\n",
    "    lunghezza.append(i*lunghezza_quadrato)\n",
    "    larghezza.append((i*lunghezza_quadrato+72)/3.6)\n",
    "print(lunghezza)\n",
    "print(larghezza)\n",
    "\n",
    "larghezza_quadrato = np.zeros((righe, colonne))\n",
    "for i in range (0,righe):\n",
    "    for j in range(0,colonne):\n",
    "        larghezza_quadrato[i][j] = (larghezza[i]*(j+1))/colonne\n",
    "print()\n",
    "print(larghezza_quadrato)"
   ]
  }
 ],
 "metadata": {
  "kernelspec": {
   "display_name": "Python 3 (ipykernel)",
   "language": "python",
   "name": "python3"
  },
  "language_info": {
   "codemirror_mode": {
    "name": "ipython",
    "version": 3
   },
   "file_extension": ".py",
   "mimetype": "text/x-python",
   "name": "python",
   "nbconvert_exporter": "python",
   "pygments_lexer": "ipython3",
   "version": "3.9.13"
  }
 },
 "nbformat": 4,
 "nbformat_minor": 5
}
